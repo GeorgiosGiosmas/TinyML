{
 "cells": [
  {
   "cell_type": "code",
   "execution_count": 1,
   "id": "f219a2ee",
   "metadata": {
    "scrolled": true
   },
   "outputs": [
    {
     "name": "stdout",
     "output_type": "stream",
     "text": [
      "Skipping, found downloaded files in \".\\plantdisease\" (use force=True to force download)\n"
     ]
    },
    {
     "name": "stderr",
     "output_type": "stream",
     "text": [
      "\n",
      "[notice] A new release of pip is available: 25.2 -> 25.3\n",
      "[notice] To update, run: python.exe -m pip install --upgrade pip\n"
     ]
    }
   ],
   "source": [
    "!pip install opendatasets --quiet\n",
    "import opendatasets as od\n",
    "od.download('https://www.kaggle.com/datasets/emmarex/plantdisease')"
   ]
  },
  {
   "cell_type": "code",
   "execution_count": 2,
   "id": "9eea67bf",
   "metadata": {},
   "outputs": [],
   "source": [
    "import torch\n",
    "from torch import nn\n",
    "from torch.optim import Adam\n",
    "from torchvision.transforms import transforms\n",
    "from torch.utils.data import Dataset, DataLoader\n",
    "from sklearn.preprocessing import LabelEncoder\n",
    "import matplotlib.pyplot as plt\n",
    "from PIL import Image\n",
    "import numpy as np\n",
    "import pandas as pd\n",
    "import os"
   ]
  },
  {
   "cell_type": "code",
   "execution_count": 3,
   "id": "19824c36",
   "metadata": {},
   "outputs": [
    {
     "name": "stdout",
     "output_type": "stream",
     "text": [
      "cpu\n"
     ]
    }
   ],
   "source": [
    "device = 'cuda' if torch.cuda.is_available() else 'cpu'\n",
    "print(device)"
   ]
  },
  {
   "cell_type": "code",
   "execution_count": 4,
   "id": "b63f0d2e",
   "metadata": {},
   "outputs": [
    {
     "name": "stdout",
     "output_type": "stream",
     "text": [
      "Number of Images: 20639\n"
     ]
    }
   ],
   "source": [
    "root_path = 'plantdisease/PlantVillage/'\n",
    "img_path = []\n",
    "labels_path = []\n",
    "\n",
    "for label in os.listdir(root_path):\n",
    "    for item in os.listdir(f'{root_path}/{label}'):\n",
    "        img_path.append(f'{root_path}/{label}/{item}')\n",
    "        labels_path.append(label)\n",
    "        \n",
    "print(f'Number of Images: {len(img_path)}')"
   ]
  },
  {
   "cell_type": "code",
   "execution_count": 5,
   "id": "f0abad3d",
   "metadata": {},
   "outputs": [
    {
     "name": "stdout",
     "output_type": "stream",
     "text": [
      "label\n",
      "Tomato__Tomato_YellowLeaf__Curl_Virus          3209\n",
      "Tomato_Bacterial_spot                          2127\n",
      "Tomato_Late_blight                             1909\n",
      "Tomato_Septoria_leaf_spot                      1771\n",
      "Tomato_Spider_mites_Two_spotted_spider_mite    1676\n",
      "Tomato_healthy                                 1591\n",
      "Pepper__bell___healthy                         1478\n",
      "Tomato__Target_Spot                            1404\n",
      "Potato___Early_blight                          1000\n",
      "Potato___Late_blight                           1000\n",
      "Tomato_Early_blight                            1000\n",
      "Pepper__bell___Bacterial_spot                   997\n",
      "Tomato_Leaf_Mold                                952\n",
      "Tomato__Tomato_mosaic_virus                     373\n",
      "Potato___healthy                                152\n",
      "Name: count, dtype: int64\n"
     ]
    },
    {
     "data": {
      "text/html": [
       "<div>\n",
       "<style scoped>\n",
       "    .dataframe tbody tr th:only-of-type {\n",
       "        vertical-align: middle;\n",
       "    }\n",
       "\n",
       "    .dataframe tbody tr th {\n",
       "        vertical-align: top;\n",
       "    }\n",
       "\n",
       "    .dataframe thead th {\n",
       "        text-align: right;\n",
       "    }\n",
       "</style>\n",
       "<table border=\"1\" class=\"dataframe\">\n",
       "  <thead>\n",
       "    <tr style=\"text-align: right;\">\n",
       "      <th></th>\n",
       "      <th>image_path</th>\n",
       "      <th>label</th>\n",
       "    </tr>\n",
       "  </thead>\n",
       "  <tbody>\n",
       "    <tr>\n",
       "      <th>0</th>\n",
       "      <td>plantdisease/PlantVillage//Pepper__bell___Bact...</td>\n",
       "      <td>Pepper__bell___Bacterial_spot</td>\n",
       "    </tr>\n",
       "    <tr>\n",
       "      <th>1</th>\n",
       "      <td>plantdisease/PlantVillage//Pepper__bell___Bact...</td>\n",
       "      <td>Pepper__bell___Bacterial_spot</td>\n",
       "    </tr>\n",
       "    <tr>\n",
       "      <th>2</th>\n",
       "      <td>plantdisease/PlantVillage//Pepper__bell___Bact...</td>\n",
       "      <td>Pepper__bell___Bacterial_spot</td>\n",
       "    </tr>\n",
       "    <tr>\n",
       "      <th>3</th>\n",
       "      <td>plantdisease/PlantVillage//Pepper__bell___Bact...</td>\n",
       "      <td>Pepper__bell___Bacterial_spot</td>\n",
       "    </tr>\n",
       "    <tr>\n",
       "      <th>4</th>\n",
       "      <td>plantdisease/PlantVillage//Pepper__bell___Bact...</td>\n",
       "      <td>Pepper__bell___Bacterial_spot</td>\n",
       "    </tr>\n",
       "  </tbody>\n",
       "</table>\n",
       "</div>"
      ],
      "text/plain": [
       "                                          image_path   \n",
       "0  plantdisease/PlantVillage//Pepper__bell___Bact...  \\\n",
       "1  plantdisease/PlantVillage//Pepper__bell___Bact...   \n",
       "2  plantdisease/PlantVillage//Pepper__bell___Bact...   \n",
       "3  plantdisease/PlantVillage//Pepper__bell___Bact...   \n",
       "4  plantdisease/PlantVillage//Pepper__bell___Bact...   \n",
       "\n",
       "                           label  \n",
       "0  Pepper__bell___Bacterial_spot  \n",
       "1  Pepper__bell___Bacterial_spot  \n",
       "2  Pepper__bell___Bacterial_spot  \n",
       "3  Pepper__bell___Bacterial_spot  \n",
       "4  Pepper__bell___Bacterial_spot  "
      ]
     },
     "execution_count": 5,
     "metadata": {},
     "output_type": "execute_result"
    }
   ],
   "source": [
    "# Creation of our Dataframe\n",
    "data_df = pd.DataFrame(zip(img_path, labels_path), columns = ['image_path', 'label'])\n",
    "\n",
    "# Print the distribution of data among classes and the format of our DataFrame.\n",
    "print(data_df['label'].value_counts())\n",
    "data_df.head()"
   ]
  },
  {
   "cell_type": "code",
   "execution_count": 7,
   "id": "a4cd21e2",
   "metadata": {},
   "outputs": [
    {
     "name": "stdout",
     "output_type": "stream",
     "text": [
      "Train size: 16511, Validation size: 2064, Test size: 2064\n"
     ]
    }
   ],
   "source": [
    "train = data_df.sample(frac=0.8)\n",
    "val = data_df.drop(train.index)\n",
    "test = val.sample(frac=0.5)\n",
    "val = val.drop(test.index)\n",
    "\n",
    "print(f'Train size: {len(train)}, Validation size: {len(val)}, Test size: {len(test)}')"
   ]
  },
  {
   "cell_type": "code",
   "execution_count": 8,
   "id": "78d692c4",
   "metadata": {},
   "outputs": [],
   "source": [
    "# Create a LabelEncoder for the Labels\n",
    "label_encoder = LabelEncoder()\n",
    "label_encoder.fit(data_df['label'])\n",
    "\n",
    "# Create a transform for transforming the images in the same - appropriate form\n",
    "transform = transforms.Compose([\n",
    "    transforms.Resize((256, 256)),\n",
    "    transforms.ToTensor(),\n",
    "    transforms.ConvertImageDtype(dtype=float)\n",
    "])"
   ]
  },
  {
   "cell_type": "code",
   "execution_count": 56,
   "id": "88e8a55b",
   "metadata": {},
   "outputs": [],
   "source": [
    "class PlantsDataset(Dataset):\n",
    "    def __init__(self, dataframe, transform=None):\n",
    "        self.dataframe = dataframe\n",
    "        self.transform = transform\n",
    "        self.labels = torch.tensor(label_encoder.transform(dataframe['label'])).to(device)\n",
    "        \n",
    "    def __len__(self):\n",
    "        return self.dataframe.shape[0]\n",
    "    \n",
    "    def __getitem__(self, indx):\n",
    "        image = Image.open(self.dataframe.iloc[indx, 0]).convert('RGB')\n",
    "        \n",
    "        if self.transform:\n",
    "            image = self.transform(image).to(device)\n",
    "        \n",
    "        label = self.labels[indx]\n",
    "        \n",
    "        return image, label"
   ]
  },
  {
   "cell_type": "code",
   "execution_count": 58,
   "id": "e17d6971",
   "metadata": {
    "scrolled": true
   },
   "outputs": [
    {
     "name": "stdout",
     "output_type": "stream",
     "text": [
      "(tensor([[[0.4588, 0.6039, 0.5843,  ..., 0.6745, 0.7451, 0.6314],\n",
      "         [0.6471, 0.4863, 0.4784,  ..., 0.6745, 0.7098, 0.6039],\n",
      "         [0.6510, 0.6275, 0.5686,  ..., 0.5451, 0.6824, 0.7098],\n",
      "         ...,\n",
      "         [0.4039, 0.4784, 0.6392,  ..., 0.7098, 0.7412, 0.7922],\n",
      "         [0.4431, 0.5451, 0.4784,  ..., 0.6588, 0.5608, 0.6902],\n",
      "         [0.4510, 0.4039, 0.3451,  ..., 0.7608, 0.6941, 0.6667]],\n",
      "\n",
      "        [[0.3451, 0.4902, 0.4706,  ..., 0.6000, 0.6706, 0.5569],\n",
      "         [0.5333, 0.3725, 0.3647,  ..., 0.6000, 0.6353, 0.5294],\n",
      "         [0.5373, 0.5137, 0.4549,  ..., 0.4706, 0.6078, 0.6353],\n",
      "         ...,\n",
      "         [0.2980, 0.3725, 0.5333,  ..., 0.6392, 0.6706, 0.7216],\n",
      "         [0.3373, 0.4392, 0.3725,  ..., 0.5882, 0.4902, 0.6196],\n",
      "         [0.3451, 0.2980, 0.2392,  ..., 0.6902, 0.6235, 0.5961]],\n",
      "\n",
      "        [[0.3137, 0.4588, 0.4392,  ..., 0.5451, 0.6157, 0.5020],\n",
      "         [0.5020, 0.3412, 0.3333,  ..., 0.5451, 0.5804, 0.4745],\n",
      "         [0.5059, 0.4824, 0.4235,  ..., 0.4157, 0.5529, 0.5804],\n",
      "         ...,\n",
      "         [0.2627, 0.3373, 0.4980,  ..., 0.6000, 0.6314, 0.6824],\n",
      "         [0.3020, 0.4039, 0.3373,  ..., 0.5490, 0.4510, 0.5804],\n",
      "         [0.3098, 0.2627, 0.2039,  ..., 0.6510, 0.5843, 0.5569]]],\n",
      "       dtype=torch.float64), tensor(10, dtype=torch.int32))\n"
     ]
    }
   ],
   "source": [
    "train_data = PlantsDataset(train, transform=transform)\n",
    "val_data = PlantsDataset(val, transform=transform)\n",
    "test_data = PlantsDataset(test, transform=transform)\n",
    "\n",
    "print(val_data.__getitem__(1500))"
   ]
  },
  {
   "cell_type": "code",
   "execution_count": 69,
   "id": "82fc1925",
   "metadata": {},
   "outputs": [],
   "source": [
    "train_loader = DataLoader(dataset=train_data, shuffle=True)\n",
    "val_loader = DataLoader(dataset=val_data, shuffle=True)\n",
    "test_loader = DataLoader(dataset=test_data, shuffle=True)"
   ]
  },
  {
   "cell_type": "code",
   "execution_count": null,
   "id": "9e2fc1d0",
   "metadata": {},
   "outputs": [],
   "source": [
    "#odel\n",
    "class Pla"
   ]
  },
  {
   "cell_type": "code",
   "execution_count": null,
   "id": "517d5feb",
   "metadata": {},
   "outputs": [],
   "source": []
  }
 ],
 "metadata": {
  "kernelspec": {
   "display_name": "Python 3 (ipykernel)",
   "language": "python",
   "name": "python3"
  },
  "language_info": {
   "codemirror_mode": {
    "name": "ipython",
    "version": 3
   },
   "file_extension": ".py",
   "mimetype": "text/x-python",
   "name": "python",
   "nbconvert_exporter": "python",
   "pygments_lexer": "ipython3",
   "version": "3.10.10"
  }
 },
 "nbformat": 4,
 "nbformat_minor": 5
}
